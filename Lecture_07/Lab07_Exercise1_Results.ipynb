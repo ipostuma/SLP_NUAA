{
 "cells": [
  {
   "cell_type": "markdown",
   "id": "8b3c5324",
   "metadata": {},
   "source": [
    "start by importing the python module"
   ]
  },
  {
   "cell_type": "code",
   "execution_count": 1,
   "id": "5210aa43",
   "metadata": {},
   "outputs": [],
   "source": [
    "import nibabel as nib"
   ]
  },
  {
   "cell_type": "markdown",
   "id": "f930bc2f",
   "metadata": {},
   "source": [
    "load the image in a variable"
   ]
  },
  {
   "cell_type": "code",
   "execution_count": 2,
   "id": "cd32322c",
   "metadata": {},
   "outputs": [],
   "source": [
    "img = nib.load(\"../DATA/LUNG-001/ct.nii.gz\")"
   ]
  },
  {
   "cell_type": "markdown",
   "id": "fd11d1dc",
   "metadata": {},
   "source": [
    "print image shape"
   ]
  },
  {
   "cell_type": "code",
   "execution_count": 3,
   "id": "c31ccb42",
   "metadata": {},
   "outputs": [
    {
     "data": {
      "text/plain": [
       "(512, 512, 134)"
      ]
     },
     "execution_count": 3,
     "metadata": {},
     "output_type": "execute_result"
    }
   ],
   "source": [
    "img.shape"
   ]
  },
  {
   "cell_type": "markdown",
   "id": "ce578c6f",
   "metadata": {},
   "source": [
    "print image object class"
   ]
  },
  {
   "cell_type": "code",
   "execution_count": 4,
   "id": "f222ea6b",
   "metadata": {},
   "outputs": [
    {
     "data": {
      "text/plain": [
       "<nibabel.nifti1.Nifti1Image at 0x7f81bd726790>"
      ]
     },
     "execution_count": 4,
     "metadata": {},
     "output_type": "execute_result"
    }
   ],
   "source": [
    "img"
   ]
  },
  {
   "cell_type": "markdown",
   "id": "1a2dae1a",
   "metadata": {},
   "source": [
    "get pixel spacing"
   ]
  },
  {
   "cell_type": "code",
   "execution_count": 5,
   "id": "f5699074",
   "metadata": {},
   "outputs": [
    {
     "name": "stdout",
     "output_type": "stream",
     "text": [
      "(0.9765625, 0.9765625, 3.0)\n"
     ]
    }
   ],
   "source": [
    "print(img.header.get_zooms())"
   ]
  },
  {
   "cell_type": "markdown",
   "id": "ca0ebc7b",
   "metadata": {},
   "source": [
    "get pixel units"
   ]
  },
  {
   "cell_type": "code",
   "execution_count": 6,
   "id": "19b8ea22",
   "metadata": {},
   "outputs": [
    {
     "name": "stdout",
     "output_type": "stream",
     "text": [
      "('mm', 'unknown')\n"
     ]
    }
   ],
   "source": [
    "print(img.header.get_xyzt_units())"
   ]
  },
  {
   "cell_type": "markdown",
   "id": "eb078a02",
   "metadata": {},
   "source": [
    "get orientation"
   ]
  },
  {
   "cell_type": "code",
   "execution_count": 7,
   "id": "2cd980b4",
   "metadata": {},
   "outputs": [
    {
     "name": "stdout",
     "output_type": "stream",
     "text": [
      "('L', 'P', 'S')\n"
     ]
    }
   ],
   "source": [
    "print(nib.orientations.aff2axcodes(img.affine))"
   ]
  },
  {
   "cell_type": "markdown",
   "id": "4eeb6e8e",
   "metadata": {},
   "source": [
    "print image dimension from the data array"
   ]
  },
  {
   "cell_type": "code",
   "execution_count": 8,
   "id": "345fd467",
   "metadata": {},
   "outputs": [
    {
     "name": "stdout",
     "output_type": "stream",
     "text": [
      "3\n"
     ]
    }
   ],
   "source": [
    "print(img.get_fdata().ndim)"
   ]
  },
  {
   "cell_type": "code",
   "execution_count": null,
   "id": "e15bded3",
   "metadata": {},
   "outputs": [],
   "source": []
  }
 ],
 "metadata": {
  "kernelspec": {
   "display_name": "Python 3 (ipykernel)",
   "language": "python",
   "name": "python3"
  },
  "language_info": {
   "codemirror_mode": {
    "name": "ipython",
    "version": 3
   },
   "file_extension": ".py",
   "mimetype": "text/x-python",
   "name": "python",
   "nbconvert_exporter": "python",
   "pygments_lexer": "ipython3",
   "version": "3.10.12"
  }
 },
 "nbformat": 4,
 "nbformat_minor": 5
}
