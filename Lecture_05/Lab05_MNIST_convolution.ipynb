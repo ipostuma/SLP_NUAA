{
 "cells": [
  {
   "cell_type": "code",
   "execution_count": null,
   "metadata": {
    "executionInfo": {
     "elapsed": 953,
     "status": "ok",
     "timestamp": 1621352535123,
     "user": {
      "displayName": "Ian Postuma",
      "photoUrl": "https://lh3.googleusercontent.com/a-/AOh14GhYeRJeAxy1qvpQ_t5f1YoSP7a1UZO4qbynzAQ8=s64",
      "userId": "15420211039206829163"
     },
     "user_tz": -120
    },
    "id": "NpunGp0cvOBI"
   },
   "outputs": [],
   "source": [
    "from tensorflow.keras.datasets import mnist\n",
    "import numpy as np\n",
    "from tensorflow.keras.utils import to_categorical\n",
    "from tensorflow.keras import models\n",
    "from tensorflow.keras import layers\n",
    "\n",
    "import matplotlib.pyplot as plt"
   ]
  },
  {
   "cell_type": "markdown",
   "metadata": {
    "id": "3bnWsdfAvOBS"
   },
   "source": [
    "# MNIST dataset\n",
    "\n",
    "Like in the previous case, data of the MNIST dataset is loaded into variables and reshaped to the correct dimension (remembe the shape of the input tensor for image analysis ?). Furthermore, the data is separate into train, validation and test"
   ]
  },
  {
   "cell_type": "code",
   "execution_count": null,
   "metadata": {
    "colab": {
     "base_uri": "https://localhost:8080/"
    },
    "executionInfo": {
     "elapsed": 1149,
     "status": "ok",
     "timestamp": 1621352537010,
     "user": {
      "displayName": "Ian Postuma",
      "photoUrl": "https://lh3.googleusercontent.com/a-/AOh14GhYeRJeAxy1qvpQ_t5f1YoSP7a1UZO4qbynzAQ8=s64",
      "userId": "15420211039206829163"
     },
     "user_tz": -120
    },
    "id": "ePlr0IwyvOBS",
    "outputId": "1dd240ef-c2b4-43ec-b062-58cf79f50114"
   },
   "outputs": [],
   "source": [
    "(train_images, train_labels), (test_images, test_labels) = mnist.load_data()\n",
    "\n",
    "train_images = train_images.reshape((60000,28,28,1))\n",
    "train_images = train_images.astype(\"float32\")/255\n",
    "\n",
    "test_images = test_images.reshape((10000,28,28,1))\n",
    "test_images = test_images.astype(\"float32\")/255\n",
    "\n",
    "val_images = train_images[50000:]\n",
    "val_labels = train_labels[50000:]\n",
    "\n",
    "train_images = train_images[:50000]\n",
    "train_labels = train_labels[:50000]\n",
    "\n",
    "train_labels = to_categorical(train_labels)\n",
    "val_labels = to_categorical(val_labels)\n",
    "test_labels = to_categorical(test_labels)"
   ]
  },
  {
   "cell_type": "markdown",
   "metadata": {
    "id": "TxHde4J-vOBT"
   },
   "source": [
    "Now we have:\n",
    "\n",
    "- 50000 images in the training set\n",
    "- 10000 images in the validation set\n",
    "- 10000 images in the test set"
   ]
  },
  {
   "cell_type": "markdown",
   "metadata": {
    "id": "zJ4Jpzi6vOBU"
   },
   "source": [
    "## Simple architecture"
   ]
  },
  {
   "cell_type": "code",
   "execution_count": null,
   "metadata": {
    "executionInfo": {
     "elapsed": 562,
     "status": "ok",
     "timestamp": 1621352555175,
     "user": {
      "displayName": "Ian Postuma",
      "photoUrl": "https://lh3.googleusercontent.com/a-/AOh14GhYeRJeAxy1qvpQ_t5f1YoSP7a1UZO4qbynzAQ8=s64",
      "userId": "15420211039206829163"
     },
     "user_tz": -120
    },
    "id": "sCQq8U6HvOBV"
   },
   "outputs": [],
   "source": [
    "def build_model():\n",
    "  network = models.Sequential()\n",
    "  network.add(layers.Conv2D(32,(3,3), activation=\"relu\", input_shape=(28,28,1)))\n",
    "  network.add(layers.MaxPooling2D((2,2)))\n",
    "  network.add(layers.Conv2D(64,(3,3), activation=\"relu\"))\n",
    "  network.add(layers.MaxPooling2D((2,2)))\n",
    "  network.add(layers.Conv2D(64,(3,3), activation=\"relu\"))\n",
    "  network.add(layers.Flatten())\n",
    "  network.add(layers.Dense(64,activation=\"relu\"))\n",
    "  network.add(layers.Dense(10,activation=\"softmax\"))\n",
    "\n",
    "  network.compile(optimizer=\"rmsprop\",\n",
    "                  loss=\"categorical_crossentropy\",\n",
    "                  metrics=[\"accuracy\"])\n",
    "  \n",
    "  network.summary()\n",
    "  \n",
    "  return network"
   ]
  },
  {
   "cell_type": "markdown",
   "metadata": {
    "id": "09M6FODtvOBX"
   },
   "source": [
    "Exercises:\n",
    "\n",
    "1. could you gues the number of parameters that we would have had by using fully connected layers ?\n",
    "2. how many trainable parameters does this CNN have ?\n",
    "\n",
    "## Fit model"
   ]
  },
  {
   "cell_type": "code",
   "execution_count": null,
   "metadata": {
    "colab": {
     "base_uri": "https://localhost:8080/"
    },
    "executionInfo": {
     "elapsed": 600192,
     "status": "ok",
     "timestamp": 1621353184161,
     "user": {
      "displayName": "Ian Postuma",
      "photoUrl": "https://lh3.googleusercontent.com/a-/AOh14GhYeRJeAxy1qvpQ_t5f1YoSP7a1UZO4qbynzAQ8=s64",
      "userId": "15420211039206829163"
     },
     "user_tz": -120
    },
    "id": "94b0-T0JvOBX",
    "outputId": "651c837b-33fe-4fc9-f962-e388a3530575"
   },
   "outputs": [],
   "source": [
    "model = build_model()\n",
    "\n",
    "history = model.fit(train_images,\n",
    "                    train_labels,\n",
    "                    epochs=15,\n",
    "                    batch_size=64,\n",
    "                    validation_data=(val_images,val_labels))"
   ]
  },
  {
   "cell_type": "code",
   "execution_count": null,
   "metadata": {
    "colab": {
     "base_uri": "https://localhost:8080/"
    },
    "executionInfo": {
     "elapsed": 4702,
     "status": "ok",
     "timestamp": 1621353188871,
     "user": {
      "displayName": "Ian Postuma",
      "photoUrl": "https://lh3.googleusercontent.com/a-/AOh14GhYeRJeAxy1qvpQ_t5f1YoSP7a1UZO4qbynzAQ8=s64",
      "userId": "15420211039206829163"
     },
     "user_tz": -120
    },
    "id": "gwCaLwf17cIb",
    "outputId": "744df9ac-267c-4dd7-d6f0-d728db37c32d"
   },
   "outputs": [],
   "source": [
    "test_loss, test_acc = model.evaluate(test_images, test_labels)\n",
    "print(\"loss = {}\\nAcc. = {}\".format(test_loss, test_acc))"
   ]
  },
  {
   "cell_type": "code",
   "execution_count": null,
   "metadata": {
    "colab": {
     "base_uri": "https://localhost:8080/",
     "height": 573
    },
    "executionInfo": {
     "elapsed": 1275,
     "status": "ok",
     "timestamp": 1621353215677,
     "user": {
      "displayName": "Ian Postuma",
      "photoUrl": "https://lh3.googleusercontent.com/a-/AOh14GhYeRJeAxy1qvpQ_t5f1YoSP7a1UZO4qbynzAQ8=s64",
      "userId": "15420211039206829163"
     },
     "user_tz": -120
    },
    "id": "L2Iex6m87iHs",
    "outputId": "2b4428fe-c654-455a-cb3c-3beb2d0b5475"
   },
   "outputs": [],
   "source": [
    "loss = history.history['loss']\n",
    "val_loss = history.history['val_loss']\n",
    "acc  = history.history['accuracy']\n",
    "val_acc  = history.history['val_accuracy']\n",
    "\n",
    "epochs = np.array(range(1,16))\n",
    "\n",
    "plt.plot(epochs,acc,'bo',label='Training acc')\n",
    "plt.plot(epochs,val_acc,'b',label='Validation acc')\n",
    "plt.title(\"Training and Validation accuracy\")\n",
    "plt.xlabel(\"epochs\")\n",
    "plt.ylabel(\"acc\")\n",
    "plt.legend()\n",
    "plt.show()\n",
    "plt.close()\n",
    "\n",
    "plt.plot(epochs,loss,'bo',label='Training loss')\n",
    "plt.plot(epochs,val_loss,'b',label='Validation loss')\n",
    "plt.title(\"Training and Validation Loss\")\n",
    "plt.xlabel(\"epochs\")\n",
    "plt.ylabel(\"loss\")\n",
    "plt.legend()\n",
    "plt.show()\n",
    "plt.close()\n"
   ]
  },
  {
   "cell_type": "markdown",
   "metadata": {
    "id": "IMOO0Ncy9vBJ"
   },
   "source": [
    "# Execise\n",
    "\n",
    "1. **Play with the model**:  change layer size, increse number of layers\n",
    "2. **Play with the optimizer**: for example change it to Adam\n",
    "3. change the size of train and validation \n",
    "4. check on which images the model doesn't predict the correct value\n",
    "5. how is the model performing with respect to a Multy Layer Perceptron ?"
   ]
  },
  {
   "cell_type": "code",
   "execution_count": null,
   "metadata": {},
   "outputs": [],
   "source": []
  }
 ],
 "metadata": {
  "colab": {
   "name": "MNIST_convolutional_model.ipynb",
   "provenance": []
  },
  "kernelspec": {
   "display_name": "Python 3",
   "language": "python",
   "name": "python3"
  },
  "language_info": {
   "codemirror_mode": {
    "name": "ipython",
    "version": 3
   },
   "file_extension": ".py",
   "mimetype": "text/x-python",
   "name": "python",
   "nbconvert_exporter": "python",
   "pygments_lexer": "ipython3",
   "version": "3.6.13"
  }
 },
 "nbformat": 4,
 "nbformat_minor": 1
}
