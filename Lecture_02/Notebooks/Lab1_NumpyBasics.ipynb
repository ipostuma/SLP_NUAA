{
 "cells": [
  {
   "cell_type": "markdown",
   "id": "09ff21a3",
   "metadata": {},
   "source": [
    "# NumPy basics\n",
    "\n",
    "As for the pyplot module of the **matplotlib** package, we import the numpy package by assigning the np alias."
   ]
  },
  {
   "cell_type": "code",
   "execution_count": null,
   "id": "61210a9b",
   "metadata": {},
   "outputs": [],
   "source": [
    "import numpy as np"
   ]
  },
  {
   "cell_type": "markdown",
   "id": "e6e8910e",
   "metadata": {},
   "source": [
    "Arrays are grid of values, everything rotates around this data structure of the numpy library. The array contains raw data, methods to locate and element and to interpret data. The elements are all of the same type, referred to as the array dtype\n",
    "An array can be initialised from a python list"
   ]
  },
  {
   "cell_type": "code",
   "execution_count": null,
   "id": "d5982051",
   "metadata": {},
   "outputs": [],
   "source": [
    "a = np.array([[1, 2, 3, 4], [5, 6, 7, 8], [9, 10, 11, 12]])\n",
    "print(a[1])\n",
    "print(a[1,3])"
   ]
  },
  {
   "cell_type": "markdown",
   "id": "db4f781d",
   "metadata": {},
   "source": [
    "There are many attributes to an array: \n",
    "ndim: will tell you the number of axes, or dimensions, of the array.\n",
    "size: will tell you the total number of elements of the array. This is the product of the elements of the array’s shape.\n",
    "shape: will display a tuple of integers that indicate the number of elements stored along each dimension of the array. If, for example, you have a 2-D array with 2 rows and 3 columns, the shape of your array is (2, 3)."
   ]
  },
  {
   "cell_type": "code",
   "execution_count": null,
   "id": "dc966eb7",
   "metadata": {},
   "outputs": [],
   "source": [
    "print(a.ndim)\n",
    "print(a.size)\n",
    "print(a.shape)"
   ]
  },
  {
   "cell_type": "markdown",
   "id": "3dd7af3b",
   "metadata": {},
   "source": [
    "As shown, arrays can be created from python lists but also through numpy functions. Functions zeros and ones will create an array with specified dimensions filled with zeros or ones respectively."
   ]
  },
  {
   "cell_type": "code",
   "execution_count": null,
   "id": "e06796a4",
   "metadata": {},
   "outputs": [],
   "source": [
    "np.zeros(2)"
   ]
  },
  {
   "cell_type": "code",
   "execution_count": null,
   "id": "9aebea8d",
   "metadata": {},
   "outputs": [],
   "source": [
    "np.ones(2)"
   ]
  },
  {
   "cell_type": "markdown",
   "id": "331dbd46",
   "metadata": {},
   "source": [
    "The arange function creates an array with a range of elements. And even an array that contains a range of evenly spaced intervals. To do this, you will specify the first number, last number, and the step size."
   ]
  },
  {
   "cell_type": "code",
   "execution_count": null,
   "id": "c213719f",
   "metadata": {},
   "outputs": [],
   "source": [
    "np.arange(4)"
   ]
  },
  {
   "cell_type": "code",
   "execution_count": null,
   "id": "840a2413",
   "metadata": {},
   "outputs": [],
   "source": [
    "np.arange(2, 9, 2)"
   ]
  },
  {
   "cell_type": "markdown",
   "id": "bc927e0f",
   "metadata": {},
   "source": [
    "You can also use np.linspace() to create an array with values that are spaced linearly in a specified interval."
   ]
  },
  {
   "cell_type": "code",
   "execution_count": null,
   "id": "cb1ffd6a",
   "metadata": {},
   "outputs": [],
   "source": [
    "np.linspace(0, 10, num=5)"
   ]
  },
  {
   "cell_type": "markdown",
   "id": "190d4fc5",
   "metadata": {},
   "source": [
    "By calling np.random.random it creates and array with the specified shape containing uniformly distributed random variables between 0 and 1."
   ]
  },
  {
   "cell_type": "code",
   "execution_count": null,
   "id": "b63b34b1",
   "metadata": {},
   "outputs": [],
   "source": [
    "np.random.random(2)"
   ]
  },
  {
   "cell_type": "markdown",
   "id": "d74802c7",
   "metadata": {},
   "source": [
    "While the default data type is floating point np.float64, you can explicitly specify which data type you want using the dtype keyword."
   ]
  },
  {
   "cell_type": "code",
   "execution_count": null,
   "id": "0e5e3882",
   "metadata": {},
   "outputs": [],
   "source": [
    "np.ones(2, dtype=np.int64)"
   ]
  },
  {
   "cell_type": "markdown",
   "id": "75a4c876",
   "metadata": {},
   "source": [
    "## Array reshape\n",
    "\n",
    "Using ```arr.reshap()``` will give a new shape to an array without changing the data. Just remember that when you use the reshape method, the array you want to produce needs to have the same number of elements as the original array. If you start with an array with 12 elements, you’ll need to make sure that your new array also has a total of 12 elements."
   ]
  },
  {
   "cell_type": "code",
   "execution_count": null,
   "id": "e95b77d3",
   "metadata": {},
   "outputs": [],
   "source": [
    "a = np.arange(12)\n",
    "print(a)"
   ]
  },
  {
   "cell_type": "code",
   "execution_count": null,
   "id": "f8a062e5",
   "metadata": {},
   "outputs": [],
   "source": [
    "b = a.reshape((2,2,3))\n",
    "print(b)"
   ]
  },
  {
   "cell_type": "markdown",
   "id": "af113c40",
   "metadata": {},
   "source": [
    "## Array indexing\n",
    "\n",
    "You can index and slice NumPy arrays in the same ways you can slice Python lists. But, If you want to select values from your array that fulfill certain conditions, it’s straightforward with NumPy. Lets take this array:"
   ]
  },
  {
   "cell_type": "code",
   "execution_count": null,
   "id": "cc5d939e",
   "metadata": {},
   "outputs": [],
   "source": [
    "a = np.arange(1,13,1).reshape(3,4)\n",
    "print(a)"
   ]
  },
  {
   "cell_type": "markdown",
   "id": "3839ee5c",
   "metadata": {},
   "source": [
    "You can easily print all of the values in the array that are less than 5."
   ]
  },
  {
   "cell_type": "code",
   "execution_count": null,
   "id": "46cc1fa7",
   "metadata": {},
   "outputs": [],
   "source": [
    "print(a[a<5])"
   ]
  },
  {
   "cell_type": "markdown",
   "id": "ba870c99",
   "metadata": {},
   "source": [
    "You can also select, for example, numbers that are equal to or greater than 5, and use that condition to index an array."
   ]
  },
  {
   "cell_type": "code",
   "execution_count": null,
   "id": "21bd81f1",
   "metadata": {},
   "outputs": [],
   "source": [
    "five_up = a>=5\n",
    "print(a[five_up])"
   ]
  },
  {
   "cell_type": "markdown",
   "id": "5f3024d4",
   "metadata": {},
   "source": [
    "You can select elements that are divisible by 2:"
   ]
  },
  {
   "cell_type": "code",
   "execution_count": null,
   "id": "3440799c",
   "metadata": {},
   "outputs": [],
   "source": [
    "print(a[a%2==0])"
   ]
  },
  {
   "cell_type": "markdown",
   "id": "17cdc74a",
   "metadata": {},
   "source": [
    "Or you can select elements that satisfy two conditions using the & and | operators:"
   ]
  },
  {
   "cell_type": "code",
   "execution_count": null,
   "id": "004a8c57",
   "metadata": {},
   "outputs": [],
   "source": [
    "print(a[(a > 2) & (a < 11)])"
   ]
  },
  {
   "cell_type": "markdown",
   "id": "983a1133",
   "metadata": {},
   "source": [
    "### Shallow copy\n",
    "\n",
    "You can use the view method to create a new array object that looks at the same data as the original array (a shallow copy).\n",
    "\n",
    "Views are an important NumPy concept! NumPy functions, as well as operations like indexing and slicing, will return views whenever possible. This saves memory and is faster (no copy of the data has to be made). However it’s important to be aware of this - modifying data in a view also modifies the original array!"
   ]
  },
  {
   "cell_type": "code",
   "execution_count": null,
   "id": "ccaf2a9d",
   "metadata": {},
   "outputs": [],
   "source": [
    "b1 = a[0, :]\n",
    "b1[0] = 99\n",
    "print(b1)\n",
    "print(a)"
   ]
  },
  {
   "cell_type": "markdown",
   "id": "55b54cca",
   "metadata": {},
   "source": [
    "Using the ```copy``` method will make a complete copy of the array and its data (a deep copy)."
   ]
  },
  {
   "cell_type": "markdown",
   "id": "b5bf0fb0",
   "metadata": {},
   "source": [
    "## Numpy array operations\n",
    "\n",
    "Common sum, subtraction, moltiplicatio and division operators works on numpy arrays, but be aware that they are performed element-wise and that in some occasions broacasting is done."
   ]
  },
  {
   "cell_type": "code",
   "execution_count": null,
   "id": "b360ec7f",
   "metadata": {},
   "outputs": [],
   "source": [
    "a = np.arange(1,5,1).reshape((2,2))\n",
    "print(a)\n",
    "b = np.ones((2,2))\n",
    "print(b)\n",
    "c = np.ones((2))\n",
    "print(c)\n",
    "\n",
    "print(a+b)\n",
    "print(a-b)\n",
    "print(a*b)\n",
    "print(a/b)\n",
    "print(a*4)\n",
    "print(a*(c+10))"
   ]
  },
  {
   "cell_type": "markdown",
   "id": "0689dcf5",
   "metadata": {},
   "source": [
    "Other useful array operations are: min, max, sum, mean, std ..."
   ]
  },
  {
   "cell_type": "code",
   "execution_count": null,
   "id": "fe0c45d4",
   "metadata": {},
   "outputs": [],
   "source": [
    "print(a)\n",
    "\n",
    "print(a.min())\n",
    "print(a.max())\n",
    "print(a.sum())\n",
    "print(a.mean())\n",
    "print(a.std())\n",
    "print(a**2)\n",
    "\n",
    "print(a.max(axis=0))\n",
    "print(a.max(axis=1))"
   ]
  },
  {
   "cell_type": "markdown",
   "id": "a78a8193",
   "metadata": {},
   "source": [
    "## Flattening an array\n",
    "\n",
    "There are two popular ways to flatten an array: ```.flatten()``` and ```.ravel().``` The primary difference between the two is that the new array created using ravel() is actually a reference to the parent array (i.e., a “view”). This means that any changes to the new array will affect the parent array as well. Since ravel does not create a copy, it’s memory efficient."
   ]
  },
  {
   "cell_type": "code",
   "execution_count": null,
   "id": "5646da7c",
   "metadata": {},
   "outputs": [],
   "source": [
    "a = np.arange(1,13,1).reshape((2,2,3))\n",
    "print(a)\n",
    "print(a.ravel())"
   ]
  },
  {
   "cell_type": "markdown",
   "id": "f9fa6ccf",
   "metadata": {},
   "source": [
    "## Working with formulas\n",
    "\n",
    "Defining mathematical formulas with NumPy arrays is easier than with python lists. For example the quadratic formula defined in Lab1-notebook had to be cycled through a for cycle to extract the y data. With NumPy arrays sum and multiplication are made element-wise, which means that one doesn't need a for loop."
   ]
  },
  {
   "cell_type": "code",
   "execution_count": null,
   "id": "d53ad8fc",
   "metadata": {},
   "outputs": [],
   "source": [
    "import matplotlib.pyplot as plt\n",
    "\n",
    "def quad(x,a,b,c):\n",
    "    return a*x**2 + b*x + c\n",
    "\n",
    "x = np.linspace(-2,8, num=1000)\n",
    "y = quad(x,1,-6,-5)\n",
    "\n",
    "plt.title(\"Quadratic function plot\")\n",
    "plt.plot(x,y,label=\"quad 1\")\n",
    "plt.xlabel(\"X values\")\n",
    "plt.ylabel(\"Y values\")\n",
    "plt.legend()\n",
    "plt.show()\n",
    "plt.close()"
   ]
  },
  {
   "cell_type": "markdown",
   "id": "1a4f7bb1",
   "metadata": {},
   "source": [
    "# Image masks and how to use them\n",
    "\n",
    "With this brief introduction to numpy you should have the basics to undestand and use image masks. Masks are just arrays of bool values that are used as indexes to define which part of an image one wants to act upon. With masks we can open an image and select those pixels that have an intensity greated or smaller than a certain value."
   ]
  },
  {
   "cell_type": "code",
   "execution_count": null,
   "id": "82b9882f",
   "metadata": {},
   "outputs": [],
   "source": [
    "import matplotlib.image as mpimg\n",
    "\n",
    "img  = mpimg.imread('stinkbug.png')\n",
    "mask = np.zeros(img.shape)\n",
    "mask[img < 0.4] = 1\n",
    "\n",
    "plt.imshow(mask)\n",
    "plt.axis(\"off\")\n",
    "plt.show()\n",
    "plt.close()"
   ]
  },
  {
   "cell_type": "code",
   "execution_count": null,
   "id": "5e0f3152",
   "metadata": {},
   "outputs": [],
   "source": []
  }
 ],
 "metadata": {
  "kernelspec": {
   "display_name": "Python 3 (ipykernel)",
   "language": "python",
   "name": "python3"
  },
  "language_info": {
   "codemirror_mode": {
    "name": "ipython",
    "version": 3
   },
   "file_extension": ".py",
   "mimetype": "text/x-python",
   "name": "python",
   "nbconvert_exporter": "python",
   "pygments_lexer": "ipython3",
   "version": "3.10.12"
  }
 },
 "nbformat": 4,
 "nbformat_minor": 5
}
