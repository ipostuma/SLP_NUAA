{
 "cells": [
  {
   "cell_type": "markdown",
   "metadata": {},
   "source": [
    "# import a python module\n",
    "\n",
    "As in C or C++ you start by uploading the necessary python modules. In this case we load the ```pyplot``` module of the ```matplotlib``` package. For simplicity we can define an alias,  which in this case  is defined as ```plt```. So instead of using the module name ```matplotlib.pyplot```, we may use the module by calling ```plt```."
   ]
  },
  {
   "cell_type": "code",
   "execution_count": null,
   "metadata": {},
   "outputs": [],
   "source": [
    "import matplotlib.pyplot as plt"
   ]
  },
  {
   "cell_type": "markdown",
   "metadata": {},
   "source": [
    "## Data\n",
    "\n",
    "Let us now prepare the data. For this example we define a quadratic function from which we will define the x and y axes. instead of using a for loop we will use the python list feature ```[ i for i in range(10)]```. But first we will define a function."
   ]
  },
  {
   "cell_type": "code",
   "execution_count": null,
   "metadata": {},
   "outputs": [],
   "source": [
    "def quad(x,a,b,c):\n",
    "    return a*x**2 + b*x + c"
   ]
  },
  {
   "cell_type": "markdown",
   "metadata": {},
   "source": [
    "In python you define a function by starting the line with ```def``` followed by the function name and parameters ```quad(x,a,b,c)```. In a function you may define many variables and algorithms. In this case we return the values of a quadratic functions. In the following line we will define the a list of x and y values."
   ]
  },
  {
   "cell_type": "code",
   "execution_count": null,
   "metadata": {},
   "outputs": [],
   "source": [
    "x = [ i/100 - 2 for i in range(1000)]\n",
    "y = [ quad(i,1,-6,-5) for i in x]"
   ]
  },
  {
   "cell_type": "markdown",
   "metadata": {},
   "source": [
    "Once the x and y values are defined we may plot the outcome. Simply by usig the ```plot``` function of the ```plt``` module. The first twor arguments of the ```plot``` function are the x and y lists respectively. The following arguments must be anticipated by the argument name, for example we use the ```label``` argument. Other than ```plot``` we use other methods such as: ```title```, ```xlabel```, ```ylabel```, ```legend```, ```show``` and ```close```."
   ]
  },
  {
   "cell_type": "code",
   "execution_count": null,
   "metadata": {},
   "outputs": [],
   "source": [
    "plt.title(\"Quadratic function plot\")\n",
    "plt.plot(x,y,label=\"quad 1\")\n",
    "plt.xlabel(\"X values\")\n",
    "plt.ylabel(\"Y values\")\n",
    "plt.legend()\n",
    "plt.show()\n",
    "plt.close()"
   ]
  },
  {
   "cell_type": "markdown",
   "metadata": {},
   "source": [
    "Let us now define a new set of x and y values and try to plot both functions in a single plot."
   ]
  },
  {
   "cell_type": "code",
   "execution_count": null,
   "metadata": {},
   "outputs": [],
   "source": [
    "x2 = [ i/100 - 2 for i in range(1000)]\n",
    "y2 = [ quad(i,-1,6,5) for i in x]"
   ]
  },
  {
   "cell_type": "code",
   "execution_count": null,
   "metadata": {},
   "outputs": [],
   "source": [
    "plt.title(\"Quadratic function plot\")\n",
    "plt.plot(x,y,label=\"quad 1\")\n",
    "plt.plot(x2,y2,label=\"quad 2\")\n",
    "plt.xlabel(\"X values\")\n",
    "plt.ylabel(\"Y values\")\n",
    "plt.legend()\n",
    "plt.show()\n",
    "plt.close()"
   ]
  },
  {
   "cell_type": "markdown",
   "metadata": {},
   "source": [
    "The python module automatically updated the colors of the second line and consequently also the legend information."
   ]
  },
  {
   "cell_type": "markdown",
   "metadata": {},
   "source": [
    "## Set 2 (or more) plots side by side\n",
    "\n",
    "To set more than one plot on a canvas (lets try with 2) the ```subplots``` is the one to call. It separates the canvas in rows and columns, the first argumet is the number of rows while the second argument is the number of columns. It returns two variables, a Figure object and an axes object. Now lets try to see how to plot the previous curves side by side"
   ]
  },
  {
   "cell_type": "code",
   "execution_count": null,
   "metadata": {},
   "outputs": [],
   "source": [
    "fig, ax = plt.subplots(1,2)\n",
    "fig.suptitle(\"Quadratic function plots\")\n",
    "ax[0].plot(x,y,label=\"quad 1\")\n",
    "ax[1].plot(x2,y2,label=\"quad 2\")\n",
    "for a in ax:\n",
    "    a.set_xlabel(\"X values\")\n",
    "    a.set_ylabel(\"Y values\")\n",
    "    a.legend()\n",
    "plt.show()\n",
    "plt.close()"
   ]
  },
  {
   "cell_type": "code",
   "execution_count": null,
   "metadata": {},
   "outputs": [],
   "source": [
    "fig, ax = plt.subplots(1,2,sharey=True)\n",
    "fig.suptitle(\"Quadratic function plots\")\n",
    "ax[0].plot(x,y,label=\"quad 1\")\n",
    "ax[1].plot(x2,y2,label=\"quad 2\")\n",
    "for a in ax:\n",
    "    a.set_xlabel(\"X values\")\n",
    "    a.set_ylabel(\"Y values\")\n",
    "    a.legend()\n",
    "plt.show()\n",
    "plt.close()"
   ]
  },
  {
   "cell_type": "code",
   "execution_count": null,
   "metadata": {},
   "outputs": [],
   "source": [
    "fig, ax = plt.subplots(2,1,sharex=True)\n",
    "fig.suptitle(\"Quadratic function plots\")\n",
    "ax[0].plot(x,y,label=\"quad 1\")\n",
    "ax[1].plot(x2,y2,label=\"quad 2\")\n",
    "for a in ax:\n",
    "    a.set_xlabel(\"X values\")\n",
    "    a.set_ylabel(\"Y values\")\n",
    "    a.legend()\n",
    "plt.show()\n",
    "plt.close()"
   ]
  },
  {
   "cell_type": "markdown",
   "metadata": {},
   "source": [
    "## Import and handle an image in matplotlib\n",
    "\n",
    "For this example we will load a jpg image with the build in function ```imread``` of the ```matplotlib.image``` module. The method returns an RGB array containing the pixel data of the image."
   ]
  },
  {
   "cell_type": "code",
   "execution_count": null,
   "metadata": {},
   "outputs": [],
   "source": [
    "import matplotlib.image as mpimg\n",
    "img = mpimg.imread('stinkbug.png')\n",
    "print(img.shape)"
   ]
  },
  {
   "cell_type": "markdown",
   "metadata": {},
   "source": [
    "Image plotting is performed with the ```imshow()``` function of the ```matplotlib.pyplot``` module"
   ]
  },
  {
   "cell_type": "code",
   "execution_count": null,
   "metadata": {},
   "outputs": [],
   "source": [
    "plt.imshow(img)\n",
    "plt.show()\n",
    "plt.close()"
   ]
  },
  {
   "cell_type": "markdown",
   "metadata": {},
   "source": [
    "Take now only one channel of the image, for example the red channel. This can be done by assigning that channel to a new variable. This new variable will contain the pixel information of the red channel \"intensity\"."
   ]
  },
  {
   "cell_type": "code",
   "execution_count": null,
   "metadata": {},
   "outputs": [],
   "source": [
    "r_channel = img[:,:,0]\n",
    "plt.imshow(r_channel)\n",
    "plt.show()\n",
    "plt.close()"
   ]
  },
  {
   "cell_type": "markdown",
   "metadata": {},
   "source": [
    "With the pixel information we can extract the mean intensity and its standard deviation, by using the functions in the math package. Another interesting thing is to plot the histogram ```hist()```function of the ```matplotlib.pyplot``` module"
   ]
  },
  {
   "cell_type": "code",
   "execution_count": null,
   "metadata": {},
   "outputs": [],
   "source": [
    "import math as m\n",
    "\n",
    "mean = 0\n",
    "for i in r_channel.ravel():\n",
    "    mean += i\n",
    "mean /= len(r_channel.ravel())\n",
    "\n",
    "std = 0\n",
    "for i in r_channel.ravel():\n",
    "    std += (i-mean)**2\n",
    "std /= len(r_channel.ravel()) - 1\n",
    "std = m.sqrt(std)\n",
    "\n",
    "print(\"{:1.4f} +- {:1.4f}\".format(mean,std))"
   ]
  },
  {
   "cell_type": "code",
   "execution_count": null,
   "metadata": {},
   "outputs": [],
   "source": [
    "plt.imshow(r_channel)\n",
    "plt.axis(\"off\")\n",
    "plt.savefig(\"test.png\")\n",
    "plt.show()\n",
    "plt.close()"
   ]
  },
  {
   "cell_type": "code",
   "execution_count": null,
   "metadata": {},
   "outputs": [],
   "source": []
  }
 ],
 "metadata": {
  "kernelspec": {
   "display_name": "Python 3 (ipykernel)",
   "language": "python",
   "name": "python3"
  },
  "language_info": {
   "codemirror_mode": {
    "name": "ipython",
    "version": 3
   },
   "file_extension": ".py",
   "mimetype": "text/x-python",
   "name": "python",
   "nbconvert_exporter": "python",
   "pygments_lexer": "ipython3",
   "version": "3.10.12"
  }
 },
 "nbformat": 4,
 "nbformat_minor": 4
}
