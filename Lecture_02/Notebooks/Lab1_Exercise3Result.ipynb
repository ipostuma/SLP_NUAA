{
 "cells": [
  {
   "cell_type": "markdown",
   "id": "acf6f4ed",
   "metadata": {},
   "source": [
    "As usual we start by importing the libraries"
   ]
  },
  {
   "cell_type": "code",
   "execution_count": null,
   "id": "e7065acb",
   "metadata": {},
   "outputs": [],
   "source": [
    "import matplotlib.pyplot as plt\n",
    "import matplotlib.image as mpimg\n",
    "import numpy as np"
   ]
  },
  {
   "cell_type": "markdown",
   "id": "142abf40",
   "metadata": {},
   "source": [
    "Now we load the image and a mask with the same shape of the image, so we can store the results. We also define two lists containing some values which are useful:\n",
    "\n",
    "* channel names\n",
    "* mask value of each channel"
   ]
  },
  {
   "cell_type": "code",
   "execution_count": null,
   "id": "e16631b6",
   "metadata": {},
   "outputs": [],
   "source": [
    "channel  = [\"Red\", \"Green\", \"Blue\"]\n",
    "mask_val = [150,125,100]\n",
    "\n",
    "img = np.array(mpimg.imread('Baozi.jpg'))\n",
    "img_m = np.zeros(img.shape)"
   ]
  },
  {
   "cell_type": "markdown",
   "id": "d31e8262",
   "metadata": {},
   "source": [
    "lets plot the original image to see what we would expect"
   ]
  },
  {
   "cell_type": "code",
   "execution_count": null,
   "id": "e44c3bbd",
   "metadata": {},
   "outputs": [],
   "source": [
    "fig,ax = plt.subplots(1,1)\n",
    "ax.set_title(\"original image\")\n",
    "ax.imshow(img)\n",
    "ax.axis(\"off\")\n",
    "plt.show()\n",
    "plt.close()"
   ]
  },
  {
   "cell_type": "markdown",
   "id": "71f90c09",
   "metadata": {},
   "source": [
    "Now we loop through the channels, fill the mask variable and plot the results of the exercise."
   ]
  },
  {
   "cell_type": "code",
   "execution_count": null,
   "id": "70691174",
   "metadata": {},
   "outputs": [],
   "source": [
    "fig, ax = plt.subplots(4,3,figsize=(13,10),tight_layout=True)\n",
    "\n",
    "for i in range(3):\n",
    "    \n",
    "    dump = img[:,:,i].copy()\n",
    "    \n",
    "    # channel image\n",
    "    ax[0,i].set_title(\"baozi image {} channel\".format(channel[i]))\n",
    "    ax[0,i].axis(\"off\")\n",
    "    ax[0,i].imshow(dump)\n",
    "\n",
    "    # channel mask image\n",
    "    mask = np.zeros(dump.shape)\n",
    "    mask[dump > mask_val[i]] = 1\n",
    "    ax[1,i].set_title(\"mask of {} channel > {}\".format(channel[i],mask_val[i]))\n",
    "    ax[1,i].imshow(mask,cmap=\"Greys\")\n",
    "    ax[1,i].axis(\"off\")\n",
    "    \n",
    "    # channel masked image\n",
    "    dump[mask==0] = 0 \n",
    "    ax[2,i].set_title(\"img of {} channel mask\".format(channel[i]))\n",
    "    ax[2,i].imshow(dump,cmap=\"Greys\")\n",
    "    ax[2,i].axis(\"off\")\n",
    "    \n",
    "    # intensity histogram of the masked channel\n",
    "    ax[3,i].set_title(\"{} mask channel intensity\".format(channel[i]))\n",
    "    ax[3,i].hist(dump[dump>0].ravel(),255,range=(0,255))\n",
    "    ax[3,i].set_xlabel(\"intensity value\")\n",
    "    ax[3,i].set_ylabel(\"occurrence\")\n",
    "    ax[3,i].set_xlim((0,255))\n",
    "    \n",
    "    # save this mask in the image mask containing\n",
    "    # the mask of the 3 channels\n",
    "    img_m[:,:,i] = mask\n",
    "\n",
    "plt.show()\n",
    "plt.close()"
   ]
  },
  {
   "cell_type": "markdown",
   "id": "63125d5c",
   "metadata": {},
   "source": [
    "we have filtered the channels with different masks, lets see what happen if we recombine the RGB image."
   ]
  },
  {
   "cell_type": "code",
   "execution_count": null,
   "id": "fe7224dc",
   "metadata": {},
   "outputs": [],
   "source": [
    "# create a deep copy of the origina image\n",
    "# and mask it\n",
    "img_dump = img.copy()\n",
    "img_dump[img_m==0]=0\n",
    "\n",
    "fig,ax = plt.subplots(2,2,figsize=(8,6),tight_layout=True)\n",
    "# original image\n",
    "ax[0,0].set_title(\"original image\")\n",
    "ax[0,0].imshow(img)\n",
    "# masked image\n",
    "ax[0,1].set_title(\"masked image\")\n",
    "ax[0,1].imshow(img_dump)\n",
    "for a in ax[0]:\n",
    "    a.axis(\"off\")\n",
    "    \n",
    "# original image histogram\n",
    "# obtained by reshaping the original image to an array\n",
    "# of the same size but with shape = (135.000, 3)\n",
    "ax[1,0].hist(img.reshape((img.shape[0]*img.shape[1],img.shape[2])),\n",
    "             255,color=[\"r\",\"g\",\"b\"],stacked=True)\n",
    "ax[1,1].hist(img_dump.reshape((img.shape[0]*img.shape[1],img.shape[2])),\n",
    "             254,color=[\"r\",\"g\",\"b\"],stacked=True,range=(1,255))\n",
    "for a in ax[1]:\n",
    "    a.set_xlabel(\"intensity value\")\n",
    "    a.set_ylabel(\"occurrence\")\n",
    "    \n",
    "plt.show()\n",
    "plt.close()"
   ]
  },
  {
   "cell_type": "code",
   "execution_count": null,
   "id": "5725cc34",
   "metadata": {},
   "outputs": [],
   "source": []
  }
 ],
 "metadata": {
  "kernelspec": {
   "display_name": "Python 3 (ipykernel)",
   "language": "python",
   "name": "python3"
  },
  "language_info": {
   "codemirror_mode": {
    "name": "ipython",
    "version": 3
   },
   "file_extension": ".py",
   "mimetype": "text/x-python",
   "name": "python",
   "nbconvert_exporter": "python",
   "pygments_lexer": "ipython3",
   "version": "3.10.12"
  }
 },
 "nbformat": 4,
 "nbformat_minor": 5
}
