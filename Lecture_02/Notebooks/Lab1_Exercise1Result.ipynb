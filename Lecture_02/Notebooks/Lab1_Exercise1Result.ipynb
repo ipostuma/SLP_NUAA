{
 "cells": [
  {
   "cell_type": "markdown",
   "id": "7d20d2d5",
   "metadata": {},
   "source": [
    "# Esercizio 1\n",
    "\n",
    "plot immagine"
   ]
  },
  {
   "cell_type": "code",
   "execution_count": null,
   "id": "96e3c9c3",
   "metadata": {},
   "outputs": [],
   "source": [
    "import matplotlib.pyplot as plt\n",
    "import matplotlib.image as mpimg"
   ]
  },
  {
   "cell_type": "code",
   "execution_count": null,
   "id": "af1e3fdf",
   "metadata": {},
   "outputs": [],
   "source": [
    "img_b = mpimg.imread('stinkbug.png')[:,:,2]\n",
    "\n",
    "print(img_b)\n",
    "print(img_b.shape)\n"
   ]
  },
  {
   "cell_type": "code",
   "execution_count": null,
   "id": "b73f859e",
   "metadata": {},
   "outputs": [],
   "source": [
    "fig, ax = plt.subplots(1,2,tight_layout=True, figsize=(16,9))\n",
    "\n",
    "ax[0].set_title(\"Stinkbug image blue channel\")\n",
    "ax[0].axis(\"off\")\n",
    "ax[0].imshow(img_b)\n",
    "\n",
    "mean=0\n",
    "for i in img_b.ravel():\n",
    "    mean+=i\n",
    "mean/=img_b.size\n",
    "\n",
    "ax[1].set_title(\"Intensity historgram\")\n",
    "ax[1].hist(img_b.ravel(),100)\n",
    "ax[1].axvline(mean, color=\"black\")\n",
    "ax[1].set_yscale(\"log\")\n",
    "ax[1].set_xlabel(\"Intensity\")\n",
    "ax[1].set_ylabel(\"Occurrence\")\n",
    "\n",
    "plt.show()\n",
    "plt.close()"
   ]
  },
  {
   "cell_type": "code",
   "execution_count": null,
   "id": "efa84404",
   "metadata": {},
   "outputs": [],
   "source": []
  }
 ],
 "metadata": {
  "kernelspec": {
   "display_name": "Python 3 (ipykernel)",
   "language": "python",
   "name": "python3"
  },
  "language_info": {
   "codemirror_mode": {
    "name": "ipython",
    "version": 3
   },
   "file_extension": ".py",
   "mimetype": "text/x-python",
   "name": "python",
   "nbconvert_exporter": "python",
   "pygments_lexer": "ipython3",
   "version": "3.10.12"
  }
 },
 "nbformat": 4,
 "nbformat_minor": 5
}
