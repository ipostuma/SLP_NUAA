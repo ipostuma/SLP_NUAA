{
 "cells": [
  {
   "cell_type": "code",
   "execution_count": null,
   "metadata": {
    "id": "-FsCZquQlJH8"
   },
   "outputs": [],
   "source": [
    "import numpy as np"
   ]
  },
  {
   "cell_type": "markdown",
   "metadata": {
    "id": "hyvsJDdPlxBM"
   },
   "source": [
    "In the previous example we defined a layer which can be explicitated as:\n",
    "\n",
    "```\n",
    "output = relu(dot(W, input) + b)\n",
    "```\n",
    "\n",
    "We will now define the: relu function, the dot product and the sum of two tensors.\n",
    "\n",
    "## Relu\n",
    "\n",
    "Is an element wise function which \"keeps\" a value x which is greater than a certain threshold. Usually this threshold is set to 0.\n",
    "\n",
    "The ReLU (Rectified Linear Unit) function is a commonly used activation function in neural networks. It is defined as:\n",
    "\n",
    "```\n",
    "f(x) = max(0, x)\n",
    "```\n",
    "\n",
    "In Python, you can plot the ReLU function using the `matplotlib` library as follows:"
   ]
  },
  {
   "cell_type": "code",
   "execution_count": null,
   "metadata": {},
   "outputs": [],
   "source": [
    "import matplotlib.pyplot as plt\n",
    "import numpy as np\n",
    "\n",
    "# Define the ReLU function\n",
    "def relu(x):\n",
    "    return np.maximum(0, x)\n",
    "\n",
    "# Generate input data\n",
    "x = np.linspace(-5, 5, 100)\n",
    "\n",
    "# Compute the output of the ReLU function for each input value\n",
    "y = relu(x)\n",
    "\n",
    "# Plot the ReLU function\n",
    "plt.figure(dpi=300)\n",
    "plt.plot(x, y)\n",
    "plt.xlabel('x')\n",
    "plt.ylabel('f(x)')\n",
    "plt.title('ReLU Function')\n",
    "plt.show()"
   ]
  },
  {
   "cell_type": "markdown",
   "metadata": {},
   "source": [
    "In this example, we define the ReLU function using the `np.maximum` function to compute the element-wise maximum of each input value and 0. We then generate a range of input values using `np.linspace`, and compute the output of the ReLU function for each input value.\n",
    "\n",
    "Finally, we plot the ReLU function using `plt.plot`, and set the x-axis and y-axis labels and title using `plt.xlabel`, `plt.ylabel`, and `plt.title`, respectively. The resulting plot should show a piecewise linear function that is equal to 0 for negative input values, and equal to the input value for positive input values.\n",
    "\n",
    "follows a 2D implementation:"
   ]
  },
  {
   "cell_type": "code",
   "execution_count": null,
   "metadata": {
    "id": "zNdgWocWvrat"
   },
   "outputs": [],
   "source": [
    "def relu_2d(x):\n",
    "  assert len(x.shape) == 2\n",
    "\n",
    "  x = x.copy()\n",
    "  for i in range(x.shape[0]):\n",
    "    for j in range(x.shape[1]):\n",
    "      x[i,j] = max(x[i,j],0)\n",
    "  return x"
   ]
  },
  {
   "cell_type": "code",
   "execution_count": null,
   "metadata": {
    "colab": {
     "base_uri": "https://localhost:8080/"
    },
    "executionInfo": {
     "elapsed": 519,
     "status": "ok",
     "timestamp": 1621262239156,
     "user": {
      "displayName": "Ian Postuma",
      "photoUrl": "https://lh3.googleusercontent.com/a-/AOh14GhYeRJeAxy1qvpQ_t5f1YoSP7a1UZO4qbynzAQ8=s64",
      "userId": "15420211039206829163"
     },
     "user_tz": -120
    },
    "id": "NwA4_3sPwgmf",
    "outputId": "b66a4f4c-e90a-42c0-f3d0-550b95724bd6"
   },
   "outputs": [],
   "source": [
    "input_data = np.array([[1 ,4, 5,-3,10,7,-2],\n",
    "                  [-5,6,-2,-1,-5,8,-5]])\n",
    "print(input_data)\n",
    "\n",
    "output = relu_2d(input_data)\n",
    "print(output)"
   ]
  },
  {
   "cell_type": "markdown",
   "metadata": {},
   "source": [
    "## Sigmoid\n",
    "\n",
    "The sigmoid function is a common activation function used in neural networks. It is defined as:\n",
    "\n",
    "```f(x) = 1 / (1 + exp(-x))```\n",
    "\n",
    "In Python, you can plot the sigmoid function using the `matplotlib` library as follows:"
   ]
  },
  {
   "cell_type": "code",
   "execution_count": null,
   "metadata": {},
   "outputs": [],
   "source": [
    "import matplotlib.pyplot as plt\n",
    "import numpy as np\n",
    "\n",
    "# Define the sigmoid function\n",
    "def sigmoid(x):\n",
    "    return 1 / (1 + np.exp(-x))\n",
    "\n",
    "# Generate input data\n",
    "x = np.linspace(-10, 10, 100)\n",
    "\n",
    "# Compute the output of the sigmoid function for each input value\n",
    "y = sigmoid(x)\n",
    "\n",
    "# Plot the sigmoid function\n",
    "plt.subplots(dpi=300)\n",
    "plt.plot(x, y)\n",
    "plt.xlabel('x')\n",
    "plt.ylabel('f(x)')\n",
    "plt.title('Sigmoid Function')\n",
    "plt.show()"
   ]
  },
  {
   "cell_type": "markdown",
   "metadata": {},
   "source": [
    "In this example, we define the sigmoid function using the `np.exp` function to compute the exponential of each input value, and then apply the sigmoid formula. We then generate a range of input values using `np.linspace`, and compute the output of the sigmoid function for each input value.\n",
    "\n",
    "Finally, we plot the sigmoid function using plt.plot, and set the x-axis and y-axis labels and title using `plt.xlabel`, `plt.ylabel`, and `plt.title`, respectively. The resulting plot should show an S-shaped curve that is bounded between 0 and 1."
   ]
  },
  {
   "cell_type": "markdown",
   "metadata": {
    "id": "XC_8RkWXw-yt"
   },
   "source": [
    "## Sum\n",
    "\n",
    "try to define an element wise sum of a 2D tensor.\n",
    "\n",
    "<details>\n",
    "  <summary>Answer</summary>\n",
    "    \n",
    "```\n",
    "def elementwise_sum(A, B):\n",
    "    # Check if the dimensions of the tensors match\n",
    "    if len(A) != len(B) or len(A[0]) != len(B[0]):\n",
    "        raise ValueError(\"Tensors must have same dimensions\")\n",
    "\n",
    "    # Initialize the result tensor\n",
    "    C = [[0 for j in range(len(A[0]))] for i in range(len(A))]\n",
    "\n",
    "    # Compute the element-wise sum of the tensors\n",
    "    for i in range(len(A)):\n",
    "        for j in range(len(A[0])):\n",
    "            C[i][j] = A[i][j] + B[i][j]\n",
    "\n",
    "    return C\n",
    "\n",
    "# Test the element-wise sum function\n",
    "A = [[1, 2], [3, 4]]\n",
    "B = [[5, 6], [7, 8]]\n",
    "C = elementwise_sum(A, B)\n",
    "print(C)  # Output: [[6, 8], [10, 12]]\n",
    "```\n",
    "    \n",
    "</details>"
   ]
  },
  {
   "cell_type": "code",
   "execution_count": null,
   "metadata": {
    "id": "Tcw-HBEqxgsb"
   },
   "outputs": [],
   "source": []
  },
  {
   "cell_type": "code",
   "execution_count": null,
   "metadata": {
    "id": "Ao21MbtAxiDG"
   },
   "outputs": [],
   "source": []
  },
  {
   "cell_type": "markdown",
   "metadata": {
    "id": "3ebZWm1QxifX"
   },
   "source": [
    "## Broadcasting\n",
    "\n",
    "In the layer:\n",
    "\n",
    "```\n",
    "output = relu(dot(W, input) + b)\n",
    "```\n",
    "\n",
    "The output of the dot product is summed to b. The problem is that the dot product outputs a 2D tensor (when considering the MNIST example). To perform the sum, the smaller tensor will broadcasted to the dimension of the bigger tensor. This is performed by repeating a sufficient amount of times the smaller tensor on new axes, till the dimensions of the bigger tensor matches.\n",
    "\n",
    "The implementation will look something like this:\n"
   ]
  },
  {
   "cell_type": "code",
   "execution_count": null,
   "metadata": {
    "id": "8duLjEw-ywFT"
   },
   "outputs": [],
   "source": [
    "def broadcast_2d(x,y):\n",
    "  assert len(x.shape) == 2\n",
    "  assert len(y.shape) == 1\n",
    "  assert x.shape[1] == y.shape[0]\n",
    "\n",
    "  x = x.copy()\n",
    "  for i in range(x.shape[0]):\n",
    "    for j in range(x.shape[1]):\n",
    "      x[i,j] += y[j]\n",
    "  return x"
   ]
  },
  {
   "cell_type": "code",
   "execution_count": null,
   "metadata": {
    "colab": {
     "base_uri": "https://localhost:8080/"
    },
    "executionInfo": {
     "elapsed": 502,
     "status": "ok",
     "timestamp": 1621262988901,
     "user": {
      "displayName": "Ian Postuma",
      "photoUrl": "https://lh3.googleusercontent.com/a-/AOh14GhYeRJeAxy1qvpQ_t5f1YoSP7a1UZO4qbynzAQ8=s64",
      "userId": "15420211039206829163"
     },
     "user_tz": -120
    },
    "id": "tKtUwR6PzGRk",
    "outputId": "f505fbd4-cfcf-4f91-d67f-de0463a76442"
   },
   "outputs": [],
   "source": [
    "A = np.array([[1, 2], [3, 4]])\n",
    "b = np.array([5, 6])\n",
    "\n",
    "\n",
    "print(A)\n",
    "print(b)\n",
    "\n",
    "C = broadcast_2d(A,b)\n",
    "print(C)"
   ]
  },
  {
   "cell_type": "markdown",
   "metadata": {
    "id": "7PhKzOZ42x5L"
   },
   "source": [
    "## Exercise\n",
    "\n",
    "1) Try to define the dot product\n",
    "\n",
    "<details>\n",
    "  <summary>Answer</summary>\n",
    "    \n",
    "```\n",
    "def dot_product(A, B):\n",
    "    # Check if the matrices can be multiplied\n",
    "    if len(A[0]) != len(B):\n",
    "        raise ValueError(\"Matrices cannot be multiplied\")\n",
    "\n",
    "    # Initialize the result matrix\n",
    "    C = [[0 for j in range(len(B[0]))] for i in range(len(A))]\n",
    "\n",
    "    # Compute the dot product of the matrices\n",
    "    for i in range(len(A)):\n",
    "        for j in range(len(B[0])):\n",
    "            dot = 0\n",
    "            for k in range(len(B)):\n",
    "                dot += A[i][k] * B[k][j]\n",
    "            C[i][j] = dot\n",
    "\n",
    "    return C\n",
    "\n",
    "# Test the dot product function\n",
    "A = [[1, 2], [3, 4]]\n",
    "B = [[5, 6], [7, 8]]\n",
    "C = dot_product(A, B)\n",
    "print(C)  # Output: [[19, 22], [43, 50]]\n",
    "```\n",
    "    \n",
    "</details>\n",
    "\n",
    "2) Try to use numpy variables to do the same as above in just one row !\n",
    "\n",
    "<details>\n",
    "  <summary>Answer</summary>\n",
    "    \n",
    "```\n",
    "import numpy as np\n",
    "\n",
    "# Define two tensors\n",
    "A = np.array([[1, 2], [3, 4]])\n",
    "B = np.array([[5, 6], [7, 8]])\n",
    "\n",
    "# Perform element-wise multiplication of the tensors\n",
    "C1 = np.multiply(A, B)\n",
    "    \n",
    "C2 = np.dot(A, B)\n",
    "    \n",
    "C3 = A + B\n",
    "```\n",
    "    \n",
    "</details>"
   ]
  },
  {
   "cell_type": "code",
   "execution_count": null,
   "metadata": {},
   "outputs": [],
   "source": []
  },
  {
   "cell_type": "code",
   "execution_count": null,
   "metadata": {},
   "outputs": [],
   "source": []
  },
  {
   "cell_type": "markdown",
   "metadata": {},
   "source": [
    "### Appendix\n",
    "\n",
    "In Python, `assert` is a keyword that is used as a debugging aid to test for logical conditions that should be true during the execution of the program. The syntax for assert is as follows:\n",
    "\n",
    "```\n",
    "assert <condition>, <optional error message>\n",
    "```\n",
    "\n",
    "Here, `<condition>` is a Boolean expression that should evaluate to **True**, and `<optional error message>` is an optional string message that is displayed if the condition is **False**.\n",
    "\n",
    "When the assert statement is executed, Python evaluates the `<condition>` expression. If it evaluates to **True**, then the program continues executing as normal. However, if the expression evaluates to **False**, then an `AssertionError` is raised, and the program stops executing.\n",
    "\n",
    "The purpose of using assert is to catch bugs and errors early in the development process by testing for conditions that should always be true. For example, you might use assert to test that a function is returning the expected result, or that an input argument to a function has a certain value or type.\n",
    "\n",
    "Here's an example:\n",
    "\n",
    "```\n",
    "def add_numbers(x, y):\n",
    "    assert isinstance(x, (int, float)), \"x must be a number\"\n",
    "    assert isinstance(y, (int, float)), \"y must be a number\"\n",
    "    return x + y\n",
    "\n",
    "# This should work fine\n",
    "print(add_numbers(1, 2))   # Output: 3\n",
    "\n",
    "# This should raise an AssertionError\n",
    "print(add_numbers(1, \"two\"))\n",
    "# Output: \n",
    "# AssertionError: y must be a number\n",
    "```\n",
    "\n",
    "In this example, the `add_numbers` function takes two arguments **x** and **y**, and it uses assert to check that both arguments are numbers. If either argument is not a number, an `AssertionError` is raised with the specified error message."
   ]
  },
  {
   "cell_type": "code",
   "execution_count": null,
   "metadata": {},
   "outputs": [],
   "source": []
  }
 ],
 "metadata": {
  "colab": {
   "collapsed_sections": [],
   "name": "Tensor Algebra.ipynb",
   "provenance": []
  },
  "kernelspec": {
   "display_name": "Python 3",
   "language": "python",
   "name": "python3"
  },
  "language_info": {
   "codemirror_mode": {
    "name": "ipython",
    "version": 3
   },
   "file_extension": ".py",
   "mimetype": "text/x-python",
   "name": "python",
   "nbconvert_exporter": "python",
   "pygments_lexer": "ipython3",
   "version": "3.6.13"
  }
 },
 "nbformat": 4,
 "nbformat_minor": 1
}
